{
  "cells": [
    {
      "cell_type": "code",
      "execution_count": 2,
      "metadata": {},
      "outputs": [],
      "source": [
        "import os\n",
        "import cv2\n",
        "import numpy as np\n",
        "import argparse\n",
        "import warnings\n",
        "import time\n",
        "\n",
        "from src.anti_spoof_predict import AntiSpoofPredict\n",
        "from src.generate_patches import CropImage\n",
        "from src.utility import parse_model_name\n",
        "warnings.filterwarnings('ignore')\n"
      ]
    },
    {
      "cell_type": "code",
      "execution_count": 29,
      "metadata": {},
      "outputs": [],
      "source": [
        "path = r\"./images/Facial Liveliness/\""
      ]
    },
    {
      "cell_type": "code",
      "execution_count": 2,
      "metadata": {},
      "outputs": [],
      "source": [
        "# from glob import glob # glob use to extract path of file"
      ]
    },
    {
      "cell_type": "code",
      "execution_count": 3,
      "metadata": {},
      "outputs": [],
      "source": [
        "# path = glob(r'./data/images/*.jpg')"
      ]
    },
    {
      "cell_type": "code",
      "execution_count": 37,
      "metadata": {},
      "outputs": [],
      "source": [
        "img111 = cv2.imread(path[1])"
      ]
    },
    {
      "cell_type": "code",
      "execution_count": 40,
      "metadata": {},
      "outputs": [],
      "source": [
        "\n",
        "def check_image(img):\n",
        "    height, width, channel = img.shape\n",
        "    if width/height != 3/4:\n",
        "        print(\"Image is not appropriate!!!\\nHeight/Width should be 4/3.\")\n",
        "        return False\n",
        "    else:\n",
        "        return True\n",
        "\n",
        "\n",
        "\n",
        "def liveliness_test(image_name, model_dir, device_id):\n",
        "        \n",
        "    model_test = AntiSpoofPredict(device_id)\n",
        "    image_cropper = CropImage()\n",
        "    img = cv2.imread(path + image_name)\n",
        "    result = check_image(img)\n",
        "    if result is False:\n",
        "        return\n",
        "    image_bbox = model_test.get_bbox(img)\n",
        "    prediction = np.zeros((1, 3))\n",
        "    test_speed = 0\n",
        "    # sum the prediction from single model's result\n",
        "    for model_name in os.listdir(model_dir):\n",
        "        h_input, w_input, model_type, scale = parse_model_name(model_name)\n",
        "        param = {\n",
        "            \"org_img\": img,\n",
        "            \"bbox\": image_bbox,\n",
        "            \"scale\": scale,\n",
        "            \"out_w\": w_input,\n",
        "            \"out_h\": h_input,\n",
        "            \"crop\": True,\n",
        "        }\n",
        "        if scale is None:\n",
        "            param[\"crop\"] = False\n",
        "        img1 = image_cropper.crop(**param)\n",
        "        start = time.time()\n",
        "        prediction += model_test.predict(img1, os.path.join(model_dir, model_name))\n",
        "        test_speed += time.time()-start\n",
        "\n",
        "    # draw result of prediction\n",
        "    label = np.argmax(prediction)\n",
        "    value = prediction[0][label]/2\n",
        "    if label == 1:\n",
        "        print(\"User '{}' is Verified. Score: {:.2f}.\".format(image_name, value))\n",
        "        result_text = \"RealFace Score: {:.2f}\".format(value)\n",
        "        color = (255, 0, 0)\n",
        "        print(\"verification completed in {:.2f} s\".format(test_speed))\n",
        "    else:\n",
        "        print(\"Dear User, it looks like you are using a fake image. Please start the verification process again.\")\n",
        "        print(\"Score: {:.2f}\".format(value))\n",
        "        result_text = \"FakeFace Score: {:.2f}\".format(value)\n",
        "        color = (0, 0, 255)\n",
        "        print(\"Operation completed in {:.2f} seconds\".format(test_speed))\n",
        "    cv2.rectangle(\n",
        "        img,\n",
        "        (image_bbox[0], image_bbox[1]),\n",
        "        (image_bbox[0] + image_bbox[2], image_bbox[1] + image_bbox[3]),\n",
        "        color, 2)\n",
        "    cv2.putText(\n",
        "        img,\n",
        "        result_text,\n",
        "        (image_bbox[0], image_bbox[1] - 5),\n",
        "        cv2.FONT_HERSHEY_COMPLEX, 0.5*img.shape[0]/1024, color)\n",
        "\n",
        "    format_ = os.path.splitext(image_name)[-1]\n",
        "    result_image_name = image_name.replace(format_, \"_result\" + format_)\n",
        "    cv2.imwrite(path + result_image_name, img)\n",
        "\n",
        "\n",
        "\n",
        "if __name__ == \"__main__\":\n",
        "    desc = \"test\"\n",
        "    parser = argparse.ArgumentParser(description=desc)\n",
        "    parser.add_argument(\n",
        "        \"--device_id\",\n",
        "        type=int,\n",
        "        default=0,\n",
        "        help=\"which gpu id, [0/1/2/3]\")\n",
        "    parser.add_argument(\n",
        "        \"--model_dir\",\n",
        "        type=str,\n",
        "        default=\"./resources/anti_spoof_models\",\n",
        "        help=\"model_lib used to test\")\n",
        "    parser.add_argument(\n",
        "        \"--image_name\",\n",
        "        type=str,\n",
        "        default=\"image_F1.jpg\",\n",
        "        help=\"image used to test\")\n",
        "    \n",
        "    # Use parse_known_args instead of parse_args\n",
        "    args, unknown = parser.parse_known_args()\n",
        "    \n",
        "    #test(args.image_name, args.model_dir, args.device_id)\n"
      ]
    },
    {
      "cell_type": "code",
      "execution_count": 41,
      "metadata": {},
      "outputs": [
        {
          "name": "stdout",
          "output_type": "stream",
          "text": [
            "Dear User, it looks like you are using a fake image. Please start the verification process again.\n",
            "Score: 0.73\n",
            "Operation completed in 0.25 seconds\n"
          ]
        }
      ],
      "source": [
        "liveliness_test(args.image_name, args.model_dir, args.device_id)"
      ]
    }
  ],
  "metadata": {
    "anaconda-cloud": {},
    "kernelspec": {
      "display_name": "Python 3",
      "language": "python",
      "name": "python3"
    },
    "language_info": {
      "codemirror_mode": {
        "name": "ipython",
        "version": 3
      },
      "file_extension": ".py",
      "mimetype": "text/x-python",
      "name": "python",
      "nbconvert_exporter": "python",
      "pygments_lexer": "ipython3",
      "version": "3.12.2"
    }
  },
  "nbformat": 4,
  "nbformat_minor": 4
}
